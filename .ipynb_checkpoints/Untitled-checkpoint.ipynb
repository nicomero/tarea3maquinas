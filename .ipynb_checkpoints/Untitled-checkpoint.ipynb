{
 "cells": [
  {
   "cell_type": "code",
   "execution_count": 62,
   "metadata": {
    "collapsed": true
   },
   "outputs": [],
   "source": [
    "import matplotlib.pyplot as plt"
   ]
  },
  {
   "cell_type": "markdown",
   "metadata": {},
   "source": [
    "2.a"
   ]
  },
  {
   "cell_type": "code",
   "execution_count": 63,
   "metadata": {
    "collapsed": false
   },
   "outputs": [
    {
     "name": "stdout",
     "output_type": "stream",
     "text": [
      "\n",
      "Summary - dataframe completo:\n",
      "\n",
      "         Unnamed: 0        season       holiday    workingday       weather  \\\n",
      "count  10886.000000  10886.000000  10886.000000  10886.000000  10886.000000   \n",
      "mean    5442.500000      2.506614      0.028569      0.680875      1.418427   \n",
      "std     3142.661849      1.116174      0.166599      0.466159      0.633839   \n",
      "min        0.000000      1.000000      0.000000      0.000000      1.000000   \n",
      "25%     2721.250000      2.000000      0.000000      0.000000      1.000000   \n",
      "50%     5442.500000      3.000000      0.000000      1.000000      1.000000   \n",
      "75%     8163.750000      4.000000      0.000000      1.000000      2.000000   \n",
      "max    10885.000000      4.000000      1.000000      1.000000      4.000000   \n",
      "\n",
      "              temp         atemp      humidity     windspeed        casual  \\\n",
      "count  10886.00000  10886.000000  10886.000000  10886.000000  10886.000000   \n",
      "mean      20.23086     23.655084     61.886460     12.799395     36.021955   \n",
      "std        7.79159      8.474601     19.245033      8.164537     49.960477   \n",
      "min        0.82000      0.760000      0.000000      0.000000      0.000000   \n",
      "25%       13.94000     16.665000     47.000000      7.001500      4.000000   \n",
      "50%       20.50000     24.240000     62.000000     12.998000     17.000000   \n",
      "75%       26.24000     31.060000     77.000000     16.997900     49.000000   \n",
      "max       41.00000     45.455000    100.000000     56.996900    367.000000   \n",
      "\n",
      "         registered         count  \n",
      "count  10886.000000  10886.000000  \n",
      "mean     155.552177    191.574132  \n",
      "std      151.039033    181.144454  \n",
      "min        0.000000      1.000000  \n",
      "25%       36.000000     42.000000  \n",
      "50%      118.000000    145.000000  \n",
      "75%      222.000000    284.000000  \n",
      "max      886.000000    977.000000  \n",
      "<class 'pandas.core.frame.DataFrame'>\n",
      "Int64Index: 10886 entries, 0 to 2146\n",
      "Data columns (total 13 columns):\n",
      "Unnamed: 0    10886 non-null int64\n",
      "datetime      10886 non-null object\n",
      "season        10886 non-null int64\n",
      "holiday       10886 non-null int64\n",
      "workingday    10886 non-null int64\n",
      "weather       10886 non-null int64\n",
      "temp          10886 non-null float64\n",
      "atemp         10886 non-null float64\n",
      "humidity      10886 non-null int64\n",
      "windspeed     10886 non-null float64\n",
      "casual        10886 non-null int64\n",
      "registered    10886 non-null int64\n",
      "count         10886 non-null int64\n",
      "dtypes: float64(3), int64(9), object(1)\n",
      "memory usage: 1.2+ MB\n",
      "None\n",
      "\n",
      "-------Despues del procesamiento------\n",
      "\n",
      "             season       holiday    workingday       weather         temp  \\\n",
      "count  10886.000000  10886.000000  10886.000000  10886.000000  10886.00000   \n",
      "mean       2.506614      0.028569      0.680875      1.418427     20.23086   \n",
      "std        1.116174      0.166599      0.466159      0.633839      7.79159   \n",
      "min        1.000000      0.000000      0.000000      1.000000      0.82000   \n",
      "25%        2.000000      0.000000      0.000000      1.000000     13.94000   \n",
      "50%        3.000000      0.000000      1.000000      1.000000     20.50000   \n",
      "75%        4.000000      0.000000      1.000000      2.000000     26.24000   \n",
      "max        4.000000      1.000000      1.000000      4.000000     41.00000   \n",
      "\n",
      "              atemp      humidity     windspeed        casual    registered  \\\n",
      "count  10886.000000  10886.000000  10886.000000  10886.000000  10886.000000   \n",
      "mean      23.655084     61.886460     12.799395     36.021955    155.552177   \n",
      "std        8.474601     19.245033      8.164537     49.960477    151.039033   \n",
      "min        0.760000      0.000000      0.000000      0.000000      0.000000   \n",
      "25%       16.665000     47.000000      7.001500      4.000000     36.000000   \n",
      "50%       24.240000     62.000000     12.998000     17.000000    118.000000   \n",
      "75%       31.060000     77.000000     16.997900     49.000000    222.000000   \n",
      "max       45.455000    100.000000     56.996900    367.000000    886.000000   \n",
      "\n",
      "              count          hour  \n",
      "count  10886.000000  10886.000000  \n",
      "mean     191.574132     11.541613  \n",
      "std      181.144454      6.915838  \n",
      "min        1.000000      0.000000  \n",
      "25%       42.000000      6.000000  \n",
      "50%      145.000000     12.000000  \n",
      "75%      284.000000     18.000000  \n",
      "max      977.000000     23.000000  \n",
      "<class 'pandas.core.frame.DataFrame'>\n",
      "Int64Index: 10886 entries, 0 to 2146\n",
      "Data columns (total 13 columns):\n",
      "datetime      10886 non-null object\n",
      "season        10886 non-null int64\n",
      "holiday       10886 non-null int64\n",
      "workingday    10886 non-null int64\n",
      "weather       10886 non-null int64\n",
      "temp          10886 non-null float64\n",
      "atemp         10886 non-null float64\n",
      "humidity      10886 non-null int64\n",
      "windspeed     10886 non-null float64\n",
      "casual        10886 non-null int64\n",
      "registered    10886 non-null int64\n",
      "count         10886 non-null int64\n",
      "hour          10886 non-null int64\n",
      "dtypes: float64(3), int64(9), object(1)\n",
      "memory usage: 1.2+ MB\n",
      "None\n"
     ]
    }
   ],
   "source": [
    "import pandas as pd\n",
    "import numpy as np\n",
    "dftrain = pd.read_csv('bike_sharing_train.csv')\n",
    "dfval = pd.read_csv('bike_sharing_val.csv')\n",
    "dftest = pd.read_csv('bike_sharing_test.csv')\n",
    "ntrain = len(dftrain)\n",
    "nval = len(dftrain) + len(dfval)\n",
    "df = pd.concat([dftrain,dfval,dftest])\n",
    "print('\\nSummary - dataframe completo:\\n')\n",
    "print( df.describe())\n",
    "print(df.info())\n",
    "df['hour'] = pd.to_datetime(df['datetime']).apply(lambda x: x.strftime('%H'))\n",
    "df['hour'] = pd.to_numeric(df['hour'])\n",
    "\n",
    "df.drop(['Unnamed: 0'], axis=1, inplace=True)\n",
    "\n",
    "print(\"\\n-------Despues del procesamiento------\\n\")\n",
    "print(df.describe())\n",
    "print(df.info())"
   ]
  },
  {
   "cell_type": "code",
   "execution_count": 64,
   "metadata": {
    "collapsed": false,
    "scrolled": true
   },
   "outputs": [
    {
     "name": "stderr",
     "output_type": "stream",
     "text": [
      "/home/nicomero/anaconda3/lib/python3.6/site-packages/IPython/core/interactiveshell.py:2881: UserWarning: To output multiple subplots, the figure containing the passed axes is being cleared\n",
      "  exec(code_obj, self.user_global_ns, self.user_ns)\n"
     ]
    },
    {
     "data": {
      "image/png": "[encoded data removed]",
      "text/plain": [
       "<matplotlib.figure.Figure at 0x7f00a27b4ef0>"
      ]
     },
     "metadata": {},
     "output_type": "display_data"
    }
   ],
   "source": [
    "fig = plt.figure(figsize = (15,20))\n",
    "ax = fig.gca()\n",
    "df.hist(ax = ax)\n",
    "plt.show()"
   ]
  },
  {
   "cell_type": "markdown",
   "metadata": {
    "collapsed": true
   },
   "source": [
    "2.b)"
   ]
  },
  {
   "cell_type": "code",
   "execution_count": 65,
   "metadata": {
    "collapsed": false
   },
   "outputs": [
    {
     "name": "stdout",
     "output_type": "stream",
     "text": [
      "SCORE TEST=0.703388\n",
      "KAGG EVAL TRAIN =0.028516\n",
      "KAGG EVAL TEST =0.574239\n"
     ]
    },
    {
     "data": {
      "image/png": "[encoded data removed]",
      "text/plain": [
       "<matplotlib.figure.Figure at 0x7f00b595b860>"
      ]
     },
     "metadata": {},
     "output_type": "display_data"
    }
   ],
   "source": [
    "from sklearn.tree import DecisionTreeRegressor as Tree\n",
    "import matplotlib.pyplot as plt\n",
    "def eval_bikemodel(y_predict,y_true):\n",
    "    diff = np.log(y_predict+1.0) - np.log(y_true+1.0)\n",
    "    return np.sqrt(np.sum(np.square(diff))/len(y_predict))\n",
    "Xdf=df.ix[:,['season','holiday','workingday','weather','temp','atemp',\n",
    "            'humidity','windspeed','hour']]\n",
    "Ydf=df.ix[:,'count']\n",
    "X_train = Xdf[0:ntrain].values\n",
    "X_val = Xdf[ntrain:nval].values\n",
    "X_test = Xdf[nval:].values\n",
    "Y_train = Ydf[0:ntrain].values\n",
    "Y_val = Ydf[ntrain:nval].values\n",
    "Y_test = Ydf[nval:].values\n",
    "\n",
    "model = Tree(random_state=0)\n",
    "model.fit(X_train,Y_train)\n",
    "score_test = model.score(X_test,Y_test)\n",
    "print (\"SCORE TEST=%f\"%score_test)\n",
    "\n",
    "Y_pred_train = model.predict(X_train)\n",
    "Y_pred_val = model.predict(X_val)\n",
    "Y_pred_test = model.predict(X_test)\n",
    "kagg_train = eval_bikemodel(Y_pred_train,Y_train)\n",
    "kagg_val = eval_bikemodel(Y_pred_val,Y_val)\n",
    "kagg_test = eval_bikemodel(Y_pred_test,Y_test)\n",
    "\n",
    "print (\"KAGG EVAL TRAIN =%f\"%kagg_train)\n",
    "print (\"KAGG EVAL TEST =%f\"%kagg_test)\n",
    "plt.plot(Y_test,Y_pred_test,'.')\n",
    "plt.show()"
   ]
  },
  {
   "cell_type": "markdown",
   "metadata": {},
   "source": [
    "2.c)"
   ]
  },
  {
   "cell_type": "code",
   "execution_count": 66,
   "metadata": {
    "collapsed": false
   },
   "outputs": [
    {
     "name": "stdout",
     "output_type": "stream",
     "text": [
      "KAGG EVAL VAL =0.451162\n",
      "KAGG EVAL TEST =0.493948\n"
     ]
    },
    {
     "data": {
      "image/png": "[encoded data removed]",
      "text/plain": [
       "<matplotlib.figure.Figure at 0x7f00b52dca90>"
      ]
     },
     "metadata": {},
     "output_type": "display_data"
    }
   ],
   "source": [
    "model = Tree(random_state=0,max_depth=10, criterion=\"mse\", splitter = \"best\", min_samples_split=7, min_samples_leaf=9,\n",
    "             min_weight_fraction_leaf = 0., max_features=1.0, max_leaf_nodes=None)\n",
    "model.fit(X_train,Y_train)\n",
    "\n",
    "Y_pred_val = model.predict(X_val)\n",
    "Y_pred_test = model.predict(X_test)\n",
    "\n",
    "kagg_val = eval_bikemodel(Y_pred_val,Y_val)\n",
    "kagg_test = eval_bikemodel(Y_pred_test,Y_test)\n",
    "\n",
    "print (\"KAGG EVAL VAL =%f\"%kagg_val)\n",
    "print (\"KAGG EVAL TEST =%f\"%kagg_test)\n",
    "\n",
    "plt.plot(Y_test,Y_pred_test,'.')\n",
    "plt.show()"
   ]
  },
  {
   "cell_type": "markdown",
   "metadata": {},
   "source": [
    "2.d)"
   ]
  },
  {
   "cell_type": "code",
   "execution_count": 67,
   "metadata": {
    "collapsed": true
   },
   "outputs": [],
   "source": [
    "df['cday'] = pd.to_datetime(df['datetime']).dt.dayofweek#0:lunes,6:domingo\n",
    "df['cday'] = pd.to_numeric(df['cday'])\n",
    "Xdf=df.ix[:,['season','holiday','workingday','weather','temp','atemp',\n",
    "'humidity','windspeed','hour','cday']]"
   ]
  },
  {
   "cell_type": "code",
   "execution_count": 68,
   "metadata": {
    "collapsed": false,
    "scrolled": true
   },
   "outputs": [
    {
     "name": "stdout",
     "output_type": "stream",
     "text": [
      "SCORE TEST=0.801517\n",
      "KAGG EVAL TRAIN =0.396238\n",
      "KAGG EVAL VAL =0.453942\n"
     ]
    },
    {
     "data": {
      "image/png": "[encoded data removed]",
      "text/plain": [
       "<matplotlib.figure.Figure at 0x7f00b7daf240>"
      ]
     },
     "metadata": {},
     "output_type": "display_data"
    }
   ],
   "source": [
    "Ydf=df.ix[:,'count']\n",
    "X_train = Xdf[0:ntrain].values\n",
    "X_val = Xdf[ntrain:nval].values\n",
    "X_test = Xdf[nval:].values\n",
    "Y_train = Ydf[0:ntrain].values\n",
    "Y_val = Ydf[ntrain:nval].values\n",
    "Y_test = Ydf[nval:].values\n",
    "\n",
    "from sklearn.preprocessing import StandardScaler\n",
    "scalerX = StandardScaler()\n",
    "X_train = scalerX.fit_transform(X_train)\n",
    "X_val = scalerX.transform(X_val)\n",
    "X_test = scalerX.transform(X_test)\n",
    "\n",
    "\n",
    "model = Tree(random_state=0,max_depth=10, criterion=\"mse\", splitter = \"best\", min_samples_split=7, min_samples_leaf=9,\n",
    "             min_weight_fraction_leaf = 0., max_features=1.0, max_leaf_nodes=None)\n",
    "model.fit(X_train,Y_train)\n",
    "score_test = model.score(X_test,Y_test)\n",
    "print (\"SCORE TEST=%f\"%score_test)\n",
    "\n",
    "Y_pred_train = model.predict(X_train)\n",
    "Y_pred_val = model.predict(X_val)\n",
    "Y_pred_test = model.predict(X_test)\n",
    "kagg_train = eval_bikemodel(Y_pred_train,Y_train)\n",
    "kagg_val = eval_bikemodel(Y_pred_val,Y_val)\n",
    "kagg_test = eval_bikemodel(Y_pred_test,Y_test)\n",
    "\n",
    "print (\"KAGG EVAL TRAIN =%f\"%kagg_train)\n",
    "print (\"KAGG EVAL VAL =%f\"%kagg_val)\n",
    "#print (\"KAGG EVAL TEST =%f\"%kagg_test)\n",
    "plt.plot(Y_test,Y_pred_test,'.')\n",
    "plt.show()"
   ]
  },
  {
   "cell_type": "markdown",
   "metadata": {},
   "source": [
    "2.e)"
   ]
  },
  {
   "cell_type": "code",
   "execution_count": 69,
   "metadata": {
    "collapsed": false,
    "scrolled": true
   },
   "outputs": [
    {
     "name": "stdout",
     "output_type": "stream",
     "text": [
      "KAGG EVAL TRAIN =0.328857\n",
      "KAGG EVAL VAL =0.399935\n",
      "KAGG EVAL TEST =0.420375\n"
     ]
    },
    {
     "data": {
      "image/png": "[encoded data removed]",
      "text/plain": [
       "<matplotlib.figure.Figure at 0x7f00a276e898>"
      ]
     },
     "metadata": {},
     "output_type": "display_data"
    }
   ],
   "source": [
    "import pandas as pd\n",
    "import numpy as np\n",
    "dftrain = pd.read_csv('bike_sharing_train.csv')\n",
    "dfval = pd.read_csv('bike_sharing_val.csv')\n",
    "dftest = pd.read_csv('bike_sharing_test.csv')\n",
    "ntrain = len(dftrain)\n",
    "nval = len(dftrain) + len(dfval)\n",
    "\n",
    "#load dataframes as before ...\n",
    "df = pd.concat([dftrain,dfval,dftest])\n",
    "df['hour'] = pd.to_datetime(df['datetime']).apply(lambda x: x.strftime('%H'))\n",
    "df['cday'] = pd.to_datetime(df['datetime']).dt.dayofweek\n",
    "df['hour'] = pd.to_numeric(df['hour'])\n",
    "df['cday'] = pd.to_numeric(df['cday'])\n",
    "Xdf=df.ix[:,['season','holiday','workingday','weather','temp','atemp',\n",
    "'humidity','windspeed','hour','cday']]\n",
    "#PASO IMPORTANTE MAS ABAJO ...\n",
    "Xdf = pd.get_dummies(Xdf,columns=['season', 'weather','hour','cday'])\n",
    "Ydf=df.ix[:,'count']\n",
    "\n",
    "##\n",
    "X_train = Xdf[0:ntrain].values\n",
    "X_val = Xdf[ntrain:nval].values\n",
    "X_test = Xdf[nval:].values\n",
    "Y_train = Ydf[0:ntrain].values\n",
    "Y_val = Ydf[ntrain:nval].values\n",
    "Y_test = Ydf[nval:].values\n",
    "##\n",
    "\n",
    "from sklearn.preprocessing import StandardScaler\n",
    "scalerX = StandardScaler()\n",
    "X_train = scalerX.fit_transform(X_train)\n",
    "X_val = scalerX.transform(X_val)\n",
    "X_test = scalerX.transform(X_test)\n",
    "\n",
    "from sklearn.svm import SVR\n",
    "model = SVR()\n",
    "\n",
    "Y_train = np.log(Y_train)\n",
    "\n",
    "model.fit(X_train,Y_train)\n",
    "Y_pred_train = model.predict(X_train)\n",
    "Y_pred_train = np.exp(Y_pred_train)\n",
    "\n",
    "Y_pred_val = model.predict(X_val)\n",
    "Y_pred_val = np.exp(Y_pred_val)\n",
    "\n",
    "Y_pred_test = model.predict(X_test)\n",
    "Y_pred_test = np.exp(Y_pred_test)\n",
    "\n",
    "Y_train = np.exp(Y_train)\n",
    "\n",
    "kagg_train = eval_bikemodel(Y_pred_train,Y_train)\n",
    "kagg_val = eval_bikemodel(Y_pred_val,Y_val)\n",
    "kagg_test = eval_bikemodel(Y_pred_test,Y_test)\n",
    "\n",
    "print (\"KAGG EVAL TRAIN =%f\"%kagg_train)\n",
    "print (\"KAGG EVAL VAL =%f\"%kagg_val)\n",
    "print (\"KAGG EVAL TEST =%f\"%kagg_test)\n",
    "plt.plot(Y_test,Y_pred_test,'.')\n",
    "plt.show()"
   ]
  },
  {
   "cell_type": "markdown",
   "metadata": {},
   "source": [
    "2.f)"
   ]
  },
  {
   "cell_type": "code",
   "execution_count": 70,
   "metadata": {
    "collapsed": false,
    "scrolled": false
   },
   "outputs": [
    {
     "name": "stdout",
     "output_type": "stream",
     "text": [
      "KAGG EVAL TRAIN =0.332181\n",
      "KAGG EVAL VAL =0.405945\n"
     ]
    }
   ],
   "source": [
    "model = SVR(C=1,epsilon=0.01)\n",
    "\n",
    "Y_train = np.log(Y_train)\n",
    "\n",
    "model.fit(X_train,Y_train)\n",
    "Y_pred_train = model.predict(X_train)\n",
    "Y_pred_train = np.exp(Y_pred_train)\n",
    "\n",
    "Y_pred_val = model.predict(X_val)\n",
    "Y_pred_val = np.exp(Y_pred_val)\n",
    "\n",
    "Y_pred_test = model.predict(X_test)\n",
    "Y_pred_test = np.exp(Y_pred_test)\n",
    "\n",
    "Y_train = np.exp(Y_train)\n",
    "\n",
    "kagg_train = eval_bikemodel(Y_pred_train,Y_train)\n",
    "kagg_val = eval_bikemodel(Y_pred_val,Y_val)\n",
    "print(\"KAGG EVAL TRAIN =%f\"%kagg_train)\n",
    "print(\"KAGG EVAL VAL =%f\"%kagg_val)"
   ]
  },
  {
   "cell_type": "markdown",
   "metadata": {},
   "source": [
    "2.g) "
   ]
  },
  {
   "cell_type": "code",
   "execution_count": 71,
   "metadata": {
    "collapsed": false
   },
   "outputs": [
    {
     "name": "stdout",
     "output_type": "stream",
     "text": [
      "0.740751885664\n"
     ]
    }
   ],
   "source": [
    "from sklearn.model_selection import KFold\n",
    "from sklearn.tree import DecisionTreeClassifier\n",
    "\n",
    "##\n",
    "X_train = Xdf[0:ntrain].values\n",
    "X_val = Xdf[ntrain:nval].values\n",
    "X_test = Xdf[nval:].values\n",
    "Y_train = Ydf[0:ntrain].values\n",
    "Y_val = Ydf[ntrain:nval].values\n",
    "Y_test = Ydf[nval:].values\n",
    "##\n",
    "\n",
    "\n",
    "Xm = X_train\n",
    "ym = Y_train\n",
    "\n",
    "kf = KFold(n_splits=10)\n",
    "mse_cv = 0\n",
    "for train, val in kf.split(Xm):\n",
    "    model = DecisionTreeClassifier(random_state=0)\n",
    "    model.fit(Xm[train], ym[train])\n",
    "    yhat_val = model.predict(Xm[val])\n",
    "    ytrue_val = ym[val]\n",
    "    score_fold = eval_bikemodel(yhat_val,ytrue_val)\n",
    "    mse_cv += score_fold\n",
    "mse_cv = mse_cv / 10\n",
    "print(mse_cv)"
   ]
  },
  {
   "cell_type": "code",
   "execution_count": 72,
   "metadata": {
    "collapsed": false
   },
   "outputs": [
    {
     "name": "stdout",
     "output_type": "stream",
     "text": [
      "1.40969634111\n"
     ]
    }
   ],
   "source": [
    "from sklearn.model_selection import KFold\n",
    "\n",
    "Xm = X_train\n",
    "ym = Y_train\n",
    "\n",
    "\n",
    "kf = KFold(n_splits=10)\n",
    "mse_cv = 0\n",
    "for train, val in kf.split(Xm):\n",
    "    model = SVR()\n",
    "    model.fit(Xm[train], ym[train])\n",
    "    yhat_val = model.predict(Xm[val])\n",
    "    ytrue_val = ym[val]\n",
    "    score_fold = eval_bikemodel(yhat_val,ytrue_val)\n",
    "    mse_cv += score_fold\n",
    "mse_cv = mse_cv / 10\n",
    "print(mse_cv)"
   ]
  },
  {
   "cell_type": "markdown",
   "metadata": {},
   "source": [
    "2.h)"
   ]
  },
  {
   "cell_type": "code",
   "execution_count": 73,
   "metadata": {
    "collapsed": false
   },
   "outputs": [
    {
     "name": "stdout",
     "output_type": "stream",
     "text": [
      "KAGG EVAL VAL =0.581180\n"
     ]
    }
   ],
   "source": [
    "Ydf=df.ix[:,'registered'] #demanda registrada\n",
    "##\n",
    "X_train = Xdf[0:ntrain].values\n",
    "X_val = Xdf[ntrain:nval].values\n",
    "\n",
    "Y_train = Ydf[0:ntrain].values\n",
    "Y_val = Ydf[ntrain:nval].values\n",
    "\n",
    "##\n",
    "\n",
    "from sklearn.tree import DecisionTreeClassifier\n",
    "\n",
    "model1 = DecisionTreeClassifier(random_state=0)\n",
    "\n",
    "model1.fit(X_train,Y_train)\n",
    "\n",
    "Y_pred_val = model1.predict(X_val)\n",
    "\n",
    "\n",
    "kagg_val = eval_bikemodel(Y_pred_val,Y_val)\n",
    "\n",
    "\n",
    "print (\"KAGG EVAL VAL =%f\"%kagg_val)\n"
   ]
  },
  {
   "cell_type": "code",
   "execution_count": 74,
   "metadata": {
    "collapsed": false
   },
   "outputs": [
    {
     "name": "stdout",
     "output_type": "stream",
     "text": [
      "KAGG EVAL VAL =0.774065\n"
     ]
    }
   ],
   "source": [
    "Ydf=df.ix[:,'casual'] #demanda casual##\n",
    "\n",
    "Y_train = Ydf[0:ntrain].values\n",
    "Y_val = Ydf[ntrain:nval].values\n",
    "\n",
    "from sklearn.tree import DecisionTreeClassifier\n",
    "\n",
    "model2 = DecisionTreeClassifier(random_state=0)\n",
    "\n",
    "model2.fit(X_train,Y_train)\n",
    "\n",
    "Y_pred_val = model2.predict(X_val)\n",
    "\n",
    "kagg_val = eval_bikemodel(Y_pred_val,Y_val)\n",
    "\n",
    "print (\"KAGG EVAL VAL =%f\"%kagg_val)"
   ]
  },
  {
   "cell_type": "code",
   "execution_count": 75,
   "metadata": {
    "collapsed": false
   },
   "outputs": [
    {
     "name": "stdout",
     "output_type": "stream",
     "text": [
      "KAGG EVAL TEST =0.601008\n"
     ]
    }
   ],
   "source": [
    "Ydf=df.ix[:,'count'] #demanda total\n",
    "Y_test = Ydf[nval:].values\n",
    "X_test = Xdf[nval:].values\n",
    "\n",
    "Y_pred_test1 = model1.predict(X_test)\n",
    "Y_pred_test2 = model2.predict(X_test)\n",
    "\n",
    "Y_pred_test = Y_pred_test1 + Y_pred_test2\n",
    "\n",
    "kagg_test = eval_bikemodel(Y_pred_test,Y_test)\n",
    "print (\"KAGG EVAL TEST =%f\"%kagg_test)"
   ]
  },
  {
   "cell_type": "markdown",
   "metadata": {},
   "source": [
    "2.i)"
   ]
  },
  {
   "cell_type": "code",
   "execution_count": 76,
   "metadata": {
    "collapsed": false
   },
   "outputs": [
    {
     "ename": "NameError",
     "evalue": "name 'max_depth' is not defined",
     "output_type": "error",
     "traceback": [
      "\u001b[0;31m---------------------------------------------------------------------------\u001b[0m",
      "\u001b[0;31mNameError\u001b[0m                                 Traceback (most recent call last)",
      "\u001b[0;32m<ipython-input-76-613a2a578bbd>\u001b[0m in \u001b[0;36m<module>\u001b[0;34m()\u001b[0m\n\u001b[1;32m      1\u001b[0m \u001b[0;32mfrom\u001b[0m \u001b[0msklearn\u001b[0m\u001b[0;34m.\u001b[0m\u001b[0mensemble\u001b[0m \u001b[0;32mimport\u001b[0m \u001b[0mRandomForestRegressor\u001b[0m\u001b[0;34m\u001b[0m\u001b[0m\n\u001b[0;32m----> 2\u001b[0;31m \u001b[0mmodel\u001b[0m \u001b[0;34m=\u001b[0m \u001b[0mRandomForestRegressor\u001b[0m\u001b[0;34m(\u001b[0m\u001b[0mn_estimators\u001b[0m\u001b[0;34m=\u001b[0m\u001b[0;36m10\u001b[0m\u001b[0;34m,\u001b[0m\u001b[0mmax_depth\u001b[0m\u001b[0;34m=\u001b[0m\u001b[0mmax_depth\u001b[0m\u001b[0;34m,\u001b[0m\u001b[0mrandom_state\u001b[0m\u001b[0;34m=\u001b[0m\u001b[0;36m0\u001b[0m\u001b[0;34m)\u001b[0m\u001b[0;34m\u001b[0m\u001b[0m\n\u001b[0m",
      "\u001b[0;31mNameError\u001b[0m: name 'max_depth' is not defined"
     ]
    }
   ],
   "source": [
    "from sklearn.ensemble import RandomForestRegressor\n",
    "\n",
    "Ydf=df.ix[:,'count']\n",
    "\n",
    "##\n",
    "X_train = Xdf[0:ntrain].values\n",
    "X_val = Xdf[ntrain:nval].values\n",
    "X_test = Xdf[nval:].values\n",
    "Y_train = Ydf[0:ntrain].values\n",
    "Y_val = Ydf[ntrain:nval].values\n",
    "Y_test = Ydf[nval:].values\n",
    "##\n",
    "\n",
    "\n",
    "\n",
    "equis = []\n",
    "iesTrain = []\n",
    "iesVal = []\n",
    "iesTest = []\n",
    "\n",
    "for i in range(1,25):\n",
    "\n",
    "\n",
    "    equis.append(i)\n",
    "    model = RandomForestRegressor(n_estimators=i,max_depth=None,random_state=0)\n",
    "\n",
    "    modelRF.fit(X_train, Y_train)\n",
    "\n",
    "#scores = cross_val_score(model, xTrain, train['good_quality'], cv=10)\n",
    "#print(\"Accuracy: %0.2f (+/- %0.2f)\" % (scores.mean(), scores.std() * 2))\n",
    "\n",
    "    yVal_pred = modelRF.predict(X_val)\n",
    "    yTest_pred = modelRF.predict(X_test)\n",
    "\n",
    "    kagg_val = eval_bikemodel(Y_pred_test,Y_val)\n",
    "    kagg_test = eval_bikemodel(Y_pred_test,Y_test)\n",
    "    \n",
    "    iesVal.append(kagg_val)\n",
    "    iesTest.append(kagg_test)\n",
    "#print(\"F1-score train =%f\"%fTrain)\n",
    "#print(\"F1-score test =%f\"%fTest)\n",
    "\n",
    "plt.title('Train evaluacion')\n",
    "plt.ylabel(' evaluacion')\n",
    "plt.xlabel('numero de arboles')\n",
    "plt.plot(equis, iesVal)\n",
    "plt.show()\n",
    "\n",
    "plt.title('Test F1-score')\n",
    "plt.ylabel(' evaluacion')\n",
    "plt.xlabel('numero de arboles')\n",
    "plt.plot(equis, iesTest)\n",
    "plt.show()"
   ]
  },
  {
   "cell_type": "markdown",
   "metadata": {},
   "source": [
    "3.a) "
   ]
  },
  {
   "cell_type": "code",
   "execution_count": null,
   "metadata": {
    "collapsed": false
   },
   "outputs": [],
   "source": [
    "import pandas as pd\n",
    "df_red = pd.read_csv(\"winequality-red.csv\",sep=\";\")\n",
    "df_red['isRed']=1\n",
    "df_red['isWhite']=0\n",
    "#print(df_red.head())\n",
    "\n",
    "df_white = pd.read_csv(\"winequality-white.csv\",sep=\";\")\n",
    "df_white['isRed']=0\n",
    "df_white['isWhite']=1\n",
    "\n",
    "df = pd.concat([df_red,df_white], axis=0)\n",
    "nred = len(df_red)\n",
    "#genere atributo 'tipo'\n",
    "\n",
    "\n",
    "print(df.head())\n",
    "print(df.describe())\n",
    "print(df.info())\n",
    "\n",
    "fig = plt.figure(figsize = (15,20))\n",
    "ax = fig.gca()\n",
    "df.hist(ax = ax)\n",
    "plt.show()"
   ]
  },
  {
   "cell_type": "markdown",
   "metadata": {},
   "source": [
    "3.b)"
   ]
  },
  {
   "cell_type": "code",
   "execution_count": null,
   "metadata": {
    "collapsed": false
   },
   "outputs": [],
   "source": [
    "df['good_quality'] = [1 if q>5 else 0 for q in df.quality] #then remove 'quality' from df\n",
    "frame = df.drop('quality', axis=1)\n",
    "#train and test split over df\n",
    "\n",
    "\n",
    "import pandas as pd\n",
    "import numpy as np\n",
    "from sklearn.model_selection import train_test_split\n",
    "\n",
    "train, test = train_test_split(frame, test_size=0.25)\n",
    "\n",
    "xTrain = train.drop('good_quality', axis=1)\n",
    "xTest = test.drop('good_quality', axis=1)"
   ]
  },
  {
   "cell_type": "markdown",
   "metadata": {},
   "source": [
    "3.c)"
   ]
  },
  {
   "cell_type": "code",
   "execution_count": null,
   "metadata": {
    "collapsed": false
   },
   "outputs": [],
   "source": [
    "from sklearn.model_selection import cross_val_score\n",
    "from sklearn.metrics import f1_score\n",
    "from sklearn.tree import DecisionTreeClassifier\n",
    "\n",
    "\n",
    "clf = DecisionTreeClassifier(criterion='entropy')\n",
    "\n",
    "clf.fit(xTrain, train['good_quality'])\n",
    "\n",
    "scores = cross_val_score(clf, xTrain, train['good_quality'], cv=10)\n",
    "print(\"Accuracy: %0.2f (+/- %0.2f)\" % (scores.mean(), scores.std() * 2))\n",
    "\n",
    "yTrain_pred = clf.predict(xTrain)\n",
    "yTest_pred = clf.predict(xTest)\n",
    "\n",
    "fTrain = f1_score(train['good_quality'], yTrain_pred)\n",
    "fTest = f1_score(test['good_quality'], yTest_pred)\n",
    "\n",
    "print(\"F1-score train =%f\"%fTrain)\n",
    "print(\"F1-score test =%f\"%fTest)"
   ]
  },
  {
   "cell_type": "markdown",
   "metadata": {},
   "source": [
    "3.d)"
   ]
  },
  {
   "cell_type": "code",
   "execution_count": null,
   "metadata": {
    "collapsed": false
   },
   "outputs": [],
   "source": [
    "from sklearn.ensemble import RandomForestClassifier\n",
    "from sklearn.metrics import f1_score\n",
    "\n",
    "equis = []\n",
    "iesTrain = []\n",
    "iesTest = []\n",
    "\n",
    "for i in range(1,25):\n",
    "\n",
    "\n",
    "    equis.append(i)\n",
    "    modelRF = RandomForestClassifier(n_estimators=i, max_depth=None,n_jobs=-1)\n",
    "\n",
    "    modelRF.fit(xTrain, train['good_quality'])\n",
    "\n",
    "#scores = cross_val_score(model, xTrain, train['good_quality'], cv=10)\n",
    "#print(\"Accuracy: %0.2f (+/- %0.2f)\" % (scores.mean(), scores.std() * 2))\n",
    "\n",
    "    yTrain_pred = modelRF.predict(xTrain)\n",
    "    yTest_pred = modelRF.predict(xTest)\n",
    "\n",
    "    fTrain = f1_score(train['good_quality'], yTrain_pred)\n",
    "    fTest = f1_score(test['good_quality'], yTest_pred)\n",
    "\n",
    "    iesTrain.append(fTrain)\n",
    "    iesTest.append(fTest)\n",
    "#print(\"F1-score train =%f\"%fTrain)\n",
    "#print(\"F1-score test =%f\"%fTest)\n",
    "\n",
    "plt.title('Train F1-score')\n",
    "plt.ylabel('F1-score')\n",
    "plt.xlabel('numero de arboles')\n",
    "plt.plot(equis, iesTrain)\n",
    "plt.show()\n",
    "\n",
    "plt.title('Test F1-score')\n",
    "plt.ylabel('F1-score')\n",
    "plt.xlabel('numero de arboles')\n",
    "plt.plot(equis, iesTest)\n",
    "plt.show()"
   ]
  },
  {
   "cell_type": "markdown",
   "metadata": {},
   "source": [
    "3.e)"
   ]
  },
  {
   "cell_type": "code",
   "execution_count": null,
   "metadata": {
    "collapsed": false
   },
   "outputs": [],
   "source": [
    "from sklearn.ensemble import AdaBoostClassifier\n",
    "\n",
    "equis = []\n",
    "iesTrain = []\n",
    "iesTest = []\n",
    "\n",
    "\n",
    "for i in range(1,25):\n",
    "    equis.append(i)\n",
    "\n",
    "    model = AdaBoostClassifier(base_estimator=DecisionTreeClassifier(max_depth=None), n_estimators=i, algorithm='SAMME.R')\n",
    "\n",
    "    model.fit(xTrain, train['good_quality'])\n",
    "\n",
    "    scores = cross_val_score(model, xTrain, train['good_quality'], cv=10)\n",
    "    #print(\"Accuracy: %0.2f (+/- %0.2f)\" % (scores.mean(), scores.std() * 2))\n",
    "\n",
    "    yTrain_pred = model.predict(xTrain)\n",
    "    yTest_pred = model.predict(xTest)\n",
    "\n",
    "    fTrain = f1_score(train['good_quality'], yTrain_pred)\n",
    "    fTest = f1_score(test['good_quality'], yTest_pred)\n",
    "\n",
    "    iesTrain.append(fTrain)\n",
    "    iesTest.append(fTest)\n",
    "\n",
    "#print(\"F1-score train =%f\"%fTrain)\n",
    "#print(\"F1-score test =%f\"%fTest)\n",
    "\n",
    "plt.title('Train F1-score')\n",
    "plt.ylabel('F1-score')\n",
    "plt.xlabel('numero de arboles')\n",
    "plt.plot(equis, iesTrain)\n",
    "plt.show()\n",
    "\n",
    "plt.title('Test F1-score')\n",
    "plt.ylabel('F1-score')\n",
    "plt.xlabel('numero de arboles')\n",
    "plt.plot(equis, iesTest)\n",
    "plt.show()"
   ]
  },
  {
   "cell_type": "markdown",
   "metadata": {},
   "source": [
    "3.f)"
   ]
  },
  {
   "cell_type": "code",
   "execution_count": null,
   "metadata": {
    "collapsed": false
   },
   "outputs": [],
   "source": [
    "from sklearn.neighbors import KNeighborsClassifier\n",
    "\n",
    "equis = []\n",
    "iesTrain = []\n",
    "iesTest = []\n",
    "\n",
    "\n",
    "for i in range(1,100,5):\n",
    "    equis.append(i)\n",
    "\n",
    "    model = KNeighborsClassifier(n_neighbors=i)\n",
    "\n",
    "    model.fit(xTrain, train['good_quality'])\n",
    "\n",
    "    scores = cross_val_score(model, xTrain, train['good_quality'], cv=10)\n",
    "    #print(\"Accuracy: %0.2f (+/- %0.2f)\" % (scores.mean(), scores.std() * 2))\n",
    "\n",
    "    yTrain_pred = model.predict(xTrain)\n",
    "    yTest_pred = model.predict(xTest)\n",
    "\n",
    "    fTrain = f1_score(train['good_quality'], yTrain_pred)\n",
    "    fTest = f1_score(test['good_quality'], yTest_pred)\n",
    "\n",
    "    iesTrain.append(fTrain)\n",
    "    iesTest.append(fTest)\n",
    "\n",
    "    #print(\"F1-score train =%f\"%fTrain)\n",
    "    #print(\"F1-score test =%f\"%fTest)\n",
    "\n",
    "plt.title('Train F1-score')\n",
    "plt.ylabel('F1-score')\n",
    "plt.xlabel('numero de arboles')\n",
    "plt.plot(equis, iesTrain)\n",
    "plt.show()\n",
    "\n",
    "plt.title('Test F1-score')\n",
    "plt.ylabel('F1-score')\n",
    "plt.xlabel('numero de arboles')\n",
    "plt.plot(equis, iesTest)\n",
    "plt.show()"
   ]
  },
  {
   "cell_type": "markdown",
   "metadata": {},
   "source": [
    "3.g)"
   ]
  },
  {
   "cell_type": "code",
   "execution_count": null,
   "metadata": {
    "collapsed": false
   },
   "outputs": [],
   "source": [
    "modelRF.get_params()\n",
    "\n",
    "X = xTrain\n",
    "\n",
    "importances = modelRF.feature_importances_\n",
    "std = np.std([tree.feature_importances_ for tree in modelRF.estimators_],\n",
    "             axis=0)\n",
    "indices = np.argsort(importances)[::-1]\n",
    "\n",
    "# Print the feature ranking\n",
    "print(\"Feature ranking:\")\n",
    "\n",
    "for f in range(X.shape[1]):\n",
    "    print(\"%d. feature %d (%f)\" % (f + 1, indices[f], importances[indices[f]]))\n",
    "\n",
    "# Plot the feature importances of the forest\n",
    "plt.figure()\n",
    "plt.title(\"Feature importances\")\n",
    "plt.bar(range(X.shape[1]), importances[indices],\n",
    "       color=\"r\", yerr=std[indices], align=\"center\")\n",
    "plt.xticks(range(X.shape[1]), indices)\n",
    "plt.xlim([-1, X.shape[1]])\n",
    "plt.show()\n"
   ]
  }
 ],
 "metadata": {
  "kernelspec": {
   "display_name": "Python 3",
   "language": "python",
   "name": "python3"
  },
  "language_info": {
   "codemirror_mode": {
    "name": "ipython",
    "version": 3
   },
   "file_extension": ".py",
   "mimetype": "text/x-python",
   "name": "python",
   "nbconvert_exporter": "python",
   "pygments_lexer": "ipython3",
   "version": "3.6.0"
  }
 },
 "nbformat": 4,
 "nbformat_minor": 2
}
